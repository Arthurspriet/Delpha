{
 "cells": [
  {
   "cell_type": "markdown",
   "id": "e88e3d8b",
   "metadata": {},
   "source": [
    "## Import dependecies"
   ]
  },
  {
   "cell_type": "code",
   "execution_count": 2,
   "id": "98ff3566",
   "metadata": {},
   "outputs": [],
   "source": [
    "from geopy.geocoders import Nominatim\n",
    "from googlesearch import search\n",
    "import requests\n",
    "import time\n",
    "import pandas as pd"
   ]
  },
  {
   "cell_type": "code",
   "execution_count": 3,
   "id": "2277824c",
   "metadata": {},
   "outputs": [],
   "source": [
    "geolocator = Nominatim(user_agent=\"MyApp\")"
   ]
  },
  {
   "cell_type": "code",
   "execution_count": 4,
   "id": "2a187d49",
   "metadata": {},
   "outputs": [],
   "source": [
    "companies =['Microsoft', 'Salesforce','Bouygues Construction','BNP Paribas','HSBC','Dataiku']"
   ]
  },
  {
   "cell_type": "code",
   "execution_count": 22,
   "id": "a7dfdf40",
   "metadata": {},
   "outputs": [],
   "source": [
    "social_media = ['Twitter', 'Linkedin','Facebook', 'Instagram']"
   ]
  },
  {
   "cell_type": "markdown",
   "id": "274a41b2",
   "metadata": {},
   "source": [
    "## Function to put name in the right format"
   ]
  },
  {
   "cell_type": "code",
   "execution_count": 6,
   "id": "c1ebddb3",
   "metadata": {},
   "outputs": [],
   "source": [
    "def good_format(x) : \n",
    "    x = x.replace(' ','_')\n",
    "    print(x)\n",
    "    return x"
   ]
  },
  {
   "cell_type": "markdown",
   "id": "6438ffaf",
   "metadata": {},
   "source": [
    "## Function to extract data from the wikipedia info box using pandas.read_html"
   ]
  },
  {
   "cell_type": "code",
   "execution_count": 7,
   "id": "d2c78df6",
   "metadata": {},
   "outputs": [],
   "source": [
    "def extract_data(x) : \n",
    "    page = 'https://en.wikipedia.org/wiki/'+x\n",
    "    infoboxes = pd.read_html(page, index_col=0, attrs={\"class\":\"infobox\"})\n",
    "    df = pd.DataFrame(infoboxes[-1])\n",
    "    print(df)\n",
    "    return df"
   ]
  },
  {
   "cell_type": "markdown",
   "id": "61b25286",
   "metadata": {},
   "source": [
    "## Function to itterate trought the companies list and get data, this function create a Dataframe for each company and concatenate them at the end of the function we only keep the required infos"
   ]
  },
  {
   "cell_type": "code",
   "execution_count": 8,
   "id": "d9cb482d",
   "metadata": {},
   "outputs": [],
   "source": [
    "def create_a_df(companies_list) : \n",
    "    final = pd.DataFrame()\n",
    "    name = pd.Series(companies_list,name='name')\n",
    "    for i in companies_list : \n",
    "        site = good_format(i)\n",
    "        data = extract_data(site).T\n",
    "        final = pd.concat([final,data])\n",
    "    final_df = final[[ 'Headquarters','Revenue','Number of employees','Website']]\n",
    "    final_df['Name'] = list(companies_list)\n",
    "    return final_df"
   ]
  },
  {
   "cell_type": "markdown",
   "id": "0c75b1ec",
   "metadata": {},
   "source": [
    "## Function to get the url of companies websites using google search "
   ]
  },
  {
   "cell_type": "code",
   "execution_count": 9,
   "id": "4ea17090",
   "metadata": {},
   "outputs": [],
   "source": [
    "def getURL(companyName):\n",
    "    try:\n",
    "        term = companyName\n",
    "        for url in search(term, num_results=1):\n",
    "            print(url)\n",
    "            return url\n",
    "    except:\n",
    "        return ''\n",
    "        pass"
   ]
  },
  {
   "cell_type": "markdown",
   "id": "672279cd",
   "metadata": {},
   "source": [
    "## Function to get the url of companies social link using google search"
   ]
  },
  {
   "cell_type": "code",
   "execution_count": 10,
   "id": "c871ab4b",
   "metadata": {},
   "outputs": [],
   "source": [
    "def getURLmedia(companyName, media):\n",
    "    try:\n",
    "        term = ' '.join([companyName, media])\n",
    "        for url in search(term, num_results=1):\n",
    "            return url\n",
    "    except:\n",
    "        return ''\n",
    "        pass"
   ]
  },
  {
   "cell_type": "code",
   "execution_count": 11,
   "id": "62fbc886",
   "metadata": {
    "scrolled": true
   },
   "outputs": [
    {
     "name": "stdout",
     "output_type": "stream",
     "text": [
      "Microsoft\n",
      "                                                                                                    1\n",
      "0                                                                                                    \n",
      "NaN                                                                                               NaN\n",
      "Building 92 on the Microsoft Redmond campus               Building 92 on the Microsoft Redmond campus\n",
      "Trade name                                                                                  Microsoft\n",
      "Type                                                                                           Public\n",
      "Traded as                                           Nasdaq: MSFTNasdaq-100 componentDJIA component...\n",
      "ISIN                                                                                     US5949181045\n",
      "Industry                                                                       Information technology\n",
      "Founded                                             April 4, 1975; 47 years ago in Albuquerque, Ne...\n",
      "Founders                                                                         Bill GatesPaul Allen\n",
      "Headquarters                                               One Microsoft WayRedmond, Washington, U.S.\n",
      "Area served                                                                                 Worldwide\n",
      "Key people                                          Satya Nadella(chairman and CEO)Brad Smith(vice...\n",
      "Products                                            Software developmentComputer hardwareConsumer ...\n",
      "Brands                                              Windows Office Skype Visual Studio Dynamics Xb...\n",
      "Services                                            Azure Bing LinkedIn Yammer Microsoft 365 OneDr...\n",
      "Revenue                                                                       US$198.3 billion (2022)\n",
      "Operating income                                                               US$83.4 billion (2022)\n",
      "Net income                                                                     US$72.7 billion (2022)\n",
      "Total assets                                                                  US$364.8 billion (2022)\n",
      "Total equity                                                                  US$166.5 billion (2022)\n",
      "Number of employees                                                                    221,000 (2022)\n",
      "Divisions                                                        Microsoft Research Xbox Game Studios\n",
      "Subsidiaries                                        GitHub LinkedIn Metaswitch Nuance Communicatio...\n",
      "Website                                                                                 microsoft.com\n",
      "Footnotes / referencesFinancials as of June 30,...  Footnotes / referencesFinancials as of June 30...\n",
      "Salesforce\n",
      "                                                                                                    1\n",
      "0                                                                                                    \n",
      "NaN                                                                                               NaN\n",
      "Salesforce Tower in San Francisco, the headquar...  Salesforce Tower in San Francisco, the headqua...\n",
      "Trade name                                                                                 Salesforce\n",
      "Formerly                                                                         salesforce.com, inc.\n",
      "Type                                                                                   Public company\n",
      "Traded as                                           NYSE: CRMDJIA componentS&P 100 componentS&P 50...\n",
      "Industry                                                 Cloud computingEnterprise softwareConsulting\n",
      "Founded                                                                February 3, 1999; 23 years ago\n",
      "Founders                                            Marc BenioffParker HarrisDave MoellenhoffFrank...\n",
      "Headquarters                                          Salesforce TowerSan Francisco, California, U.S.\n",
      "Key people                                          Marc Benioff(Chairman & co-CEO)Bret Taylor(Vic...\n",
      "Services                                                                              Cloud computing\n",
      "Revenue                                                                       US$26.49 billion (2022)\n",
      "Operating income                                                                US$548 million (2022)\n",
      "Net income                                                                     US$1.44 billion (2022)\n",
      "Total assets                                                                  US$95.21 billion (2022)\n",
      "Total equity                                                                  US$58.13 billion (2022)\n",
      "Number of employees                                                              73,542 (August 2022)\n",
      "Subsidiaries                                        QuipHerokuMuleSoftTableau SoftwareAcumen Solut...\n",
      "Website                                                                                salesforce.com\n",
      "Footnotes / references[1]                                                   Footnotes / references[1]\n",
      "Bouygues_Construction\n",
      "                                                                     1\n",
      "0                                                                     \n",
      "NaN                                                                NaN\n",
      "Type                                          Public (Société Anonyme)\n",
      "Traded as                          Euronext Paris: EN CAC 40 Component\n",
      "ISIN                                                      FR0000120503\n",
      "Industry                                                  Conglomerate\n",
      "Founded                                             1952; 70 years ago\n",
      "Founder                                               Francis Bouygues\n",
      "Headquarters                         8th arrondissement, Paris, France\n",
      "Key people            Martin Bouygues (chairman) Olivier Roussat (CEO)\n",
      "Products             Civil engineering, real estate development, me...\n",
      "Revenue                                       €37.59 billion (2021)[1]\n",
      "Operating income                               €1.69 billion (2021)[1]\n",
      "Net income                                    €1.125 billion (2021)[1]\n",
      "Number of employees                              124,600 (Dec 2021)[2]\n",
      "Subsidiaries         Bouygues ConstructionBouygues ImmobilierBouygu...\n",
      "Website                                                            [1]\n",
      "BNP_Paribas\n",
      "                                                                                                    1\n",
      "0                                                                                                    \n",
      "NaN                                                                                               NaN\n",
      "The registered office of BNP Paribas is the for...  The registered office of BNP Paribas is the fo...\n",
      "Type                                                                                  Société Anonyme\n",
      "Traded as                                                        Euronext Paris: BNP CAC 40 Component\n",
      "Industry                                                                           Financial services\n",
      "Predecessor                                                          Banque Nationale de ParisParibas\n",
      "Founded                                             1848; 174 years ago (Comptoir National d'Escom...\n",
      "Headquarters                                                    Boulevard des Italiens, Paris, France\n",
      "Area served                                                                                 Worldwide\n",
      "Key people                                          Jean Lemierre[1] (Chairman)Jean-Laurent Bonnaf...\n",
      "Products                                            Investment banking, corporate banking, securit...\n",
      "Revenue                                                                       €46.2 billion (2021)[2]\n",
      "Operating income                                                              €12.2 billion (2021)[2]\n",
      "Net income                                                                     €9.5 billion (2021)[2]\n",
      "Total assets                                                                  €2.6 trillion (2021)[2]\n",
      "Total equity                                                                 €117.9 billion (2021)[2]\n",
      "Number of employees                                                                 190,000 (2022)[2]\n",
      "Website                                                                              group.bnpparibas\n",
      "HSBC\n"
     ]
    },
    {
     "name": "stdout",
     "output_type": "stream",
     "text": [
      "                                                                                           1\n",
      "0                                                                                           \n",
      "NaN                                                                                      NaN\n",
      "HSBC headquarters at Canary Wharf, London          HSBC headquarters at Canary Wharf, London\n",
      "Type                                                                  Public limited company\n",
      "Traded as                                  LSE: HSBA SEHK: 5 NYSE: HSBC BSX: HSBC.BH FTSE...\n",
      "Industry                                                                  Financial services\n",
      "Founded                                    First established on 3 March 1865; 157 years a...\n",
      "Founder                                    Sir Thomas Sutherland (for The Hongkong and Sh...\n",
      "Headquarters                                              8 Canada SquareLondon, England, UK\n",
      "Area served                                                                        Worldwide\n",
      "Key people                                 Mark Tucker(Group Chairman)Noel Quinn (Group C...\n",
      "Products                                   Asset management, banking, commodities, credit...\n",
      "Revenue                                                          US$49.552 billion (2021)[4]\n",
      "Operating income                                                 US$18.906 billion (2021)[4]\n",
      "Net income                                                       US$14.693 billion (2021)[4]\n",
      "AUM                                                                 US$630 billion (2021)[4]\n",
      "Total assets                                                     US$2.958 trillion (2021)[4]\n",
      "Total equity                                                    US$206.777 billion (2021)[4]\n",
      "Number of employees                                                        219,697 (2021)[4]\n",
      "Subsidiaries                               Subsidiaries The Hongkong and Shanghai Banking...\n",
      "Website                                                                         www.hsbc.com\n",
      "Dataiku\n",
      "                                                                     1\n",
      "0                                                                     \n",
      "NaN                                                                NaN\n",
      "Type                                                           Private\n",
      "Industry                                             Computer software\n",
      "Founded                February 14, 2013; 9 years ago in Paris, France\n",
      "Founders             Florian DouetteauClément StenacMarc BattyThoma...\n",
      "Headquarters                              New York City, United States\n",
      "Key people                                     Florian Douetteau (CEO)\n",
      "Products                                   Dataiku Data Science Studio\n",
      "Revenue                                       US$150 million (2021)[1]\n",
      "Number of employees                                   1,000+ (2022)[1]\n",
      "Website                                                    dataiku.com\n"
     ]
    },
    {
     "name": "stderr",
     "output_type": "stream",
     "text": [
      "/var/folders/q1/v8q8_chd1rd46t7djqglmp6r0000gn/T/ipykernel_95704/230551724.py:9: SettingWithCopyWarning: \n",
      "A value is trying to be set on a copy of a slice from a DataFrame.\n",
      "Try using .loc[row_indexer,col_indexer] = value instead\n",
      "\n",
      "See the caveats in the documentation: https://pandas.pydata.org/pandas-docs/stable/user_guide/indexing.html#returning-a-view-versus-a-copy\n",
      "  final_df['Name'] = list(companies_list)\n"
     ]
    }
   ],
   "source": [
    "data = create_a_df(companies)"
   ]
  },
  {
   "cell_type": "code",
   "execution_count": 12,
   "id": "04c223b0",
   "metadata": {
    "collapsed": true
   },
   "outputs": [
    {
     "name": "stderr",
     "output_type": "stream",
     "text": [
      "/var/folders/q1/v8q8_chd1rd46t7djqglmp6r0000gn/T/ipykernel_95704/2606535024.py:1: SettingWithCopyWarning: \n",
      "A value is trying to be set on a copy of a slice from a DataFrame\n",
      "\n",
      "See the caveats in the documentation: https://pandas.pydata.org/pandas-docs/stable/user_guide/indexing.html#returning-a-view-versus-a-copy\n",
      "  data['Headquarters'].iloc[0] = 'Redmond, Washington, U.S'\n",
      "/var/folders/q1/v8q8_chd1rd46t7djqglmp6r0000gn/T/ipykernel_95704/2606535024.py:2: SettingWithCopyWarning: \n",
      "A value is trying to be set on a copy of a slice from a DataFrame\n",
      "\n",
      "See the caveats in the documentation: https://pandas.pydata.org/pandas-docs/stable/user_guide/indexing.html#returning-a-view-versus-a-copy\n",
      "  data['Headquarters'].iloc[1] ='415 Mission St, San Francisco, CA 94105, États-Unis'\n",
      "/var/folders/q1/v8q8_chd1rd46t7djqglmp6r0000gn/T/ipykernel_95704/2606535024.py:3: SettingWithCopyWarning: \n",
      "A value is trying to be set on a copy of a slice from a DataFrame\n",
      "\n",
      "See the caveats in the documentation: https://pandas.pydata.org/pandas-docs/stable/user_guide/indexing.html#returning-a-view-versus-a-copy\n",
      "  data['Headquarters'].iloc[4] ='8 Canada Square,London, England, UK'\n"
     ]
    }
   ],
   "source": [
    "data['Headquarters'].iloc[0] = 'Redmond, Washington, U.S'\n",
    "data['Headquarters'].iloc[1] ='415 Mission St, San Francisco, CA 94105, États-Unis'\n",
    "data['Headquarters'].iloc[4] ='8 Canada Square,London, England, UK'"
   ]
  },
  {
   "cell_type": "code",
   "execution_count": 13,
   "id": "3a8bae95",
   "metadata": {},
   "outputs": [
    {
     "data": {
      "text/html": [
       "<div>\n",
       "<style scoped>\n",
       "    .dataframe tbody tr th:only-of-type {\n",
       "        vertical-align: middle;\n",
       "    }\n",
       "\n",
       "    .dataframe tbody tr th {\n",
       "        vertical-align: top;\n",
       "    }\n",
       "\n",
       "    .dataframe thead th {\n",
       "        text-align: right;\n",
       "    }\n",
       "</style>\n",
       "<table border=\"1\" class=\"dataframe\">\n",
       "  <thead>\n",
       "    <tr style=\"text-align: right;\">\n",
       "      <th></th>\n",
       "      <th>Headquarters</th>\n",
       "      <th>Revenue</th>\n",
       "      <th>Number of employees</th>\n",
       "      <th>Website</th>\n",
       "      <th>Name</th>\n",
       "    </tr>\n",
       "  </thead>\n",
       "  <tbody>\n",
       "    <tr>\n",
       "      <th>1</th>\n",
       "      <td>Redmond, Washington, U.S</td>\n",
       "      <td>US$198.3 billion (2022)</td>\n",
       "      <td>221,000 (2022)</td>\n",
       "      <td>microsoft.com</td>\n",
       "      <td>Microsoft</td>\n",
       "    </tr>\n",
       "    <tr>\n",
       "      <th>1</th>\n",
       "      <td>415 Mission St, San Francisco, CA 94105, États...</td>\n",
       "      <td>US$26.49 billion (2022)</td>\n",
       "      <td>73,542 (August 2022)</td>\n",
       "      <td>salesforce.com</td>\n",
       "      <td>Salesforce</td>\n",
       "    </tr>\n",
       "    <tr>\n",
       "      <th>1</th>\n",
       "      <td>8th arrondissement, Paris, France</td>\n",
       "      <td>€37.59 billion (2021)[1]</td>\n",
       "      <td>124,600 (Dec 2021)[2]</td>\n",
       "      <td>[1]</td>\n",
       "      <td>Bouygues Construction</td>\n",
       "    </tr>\n",
       "    <tr>\n",
       "      <th>1</th>\n",
       "      <td>Boulevard des Italiens, Paris, France</td>\n",
       "      <td>€46.2 billion (2021)[2]</td>\n",
       "      <td>190,000 (2022)[2]</td>\n",
       "      <td>group.bnpparibas</td>\n",
       "      <td>BNP Paribas</td>\n",
       "    </tr>\n",
       "    <tr>\n",
       "      <th>1</th>\n",
       "      <td>8 Canada Square,London, England, UK</td>\n",
       "      <td>US$49.552 billion (2021)[4]</td>\n",
       "      <td>219,697 (2021)[4]</td>\n",
       "      <td>www.hsbc.com</td>\n",
       "      <td>HSBC</td>\n",
       "    </tr>\n",
       "    <tr>\n",
       "      <th>1</th>\n",
       "      <td>New York City, United States</td>\n",
       "      <td>US$150 million (2021)[1]</td>\n",
       "      <td>1,000+ (2022)[1]</td>\n",
       "      <td>dataiku.com</td>\n",
       "      <td>Dataiku</td>\n",
       "    </tr>\n",
       "  </tbody>\n",
       "</table>\n",
       "</div>"
      ],
      "text/plain": [
       "0                                       Headquarters  \\\n",
       "1                           Redmond, Washington, U.S   \n",
       "1  415 Mission St, San Francisco, CA 94105, États...   \n",
       "1                  8th arrondissement, Paris, France   \n",
       "1              Boulevard des Italiens, Paris, France   \n",
       "1                8 Canada Square,London, England, UK   \n",
       "1                       New York City, United States   \n",
       "\n",
       "0                      Revenue    Number of employees           Website  \\\n",
       "1      US$198.3 billion (2022)         221,000 (2022)     microsoft.com   \n",
       "1      US$26.49 billion (2022)   73,542 (August 2022)    salesforce.com   \n",
       "1     €37.59 billion (2021)[1]  124,600 (Dec 2021)[2]               [1]   \n",
       "1      €46.2 billion (2021)[2]      190,000 (2022)[2]  group.bnpparibas   \n",
       "1  US$49.552 billion (2021)[4]      219,697 (2021)[4]      www.hsbc.com   \n",
       "1     US$150 million (2021)[1]       1,000+ (2022)[1]       dataiku.com   \n",
       "\n",
       "0                   Name  \n",
       "1              Microsoft  \n",
       "1             Salesforce  \n",
       "1  Bouygues Construction  \n",
       "1            BNP Paribas  \n",
       "1                   HSBC  \n",
       "1                Dataiku  "
      ]
     },
     "execution_count": 13,
     "metadata": {},
     "output_type": "execute_result"
    }
   ],
   "source": [
    "data"
   ]
  },
  {
   "cell_type": "markdown",
   "id": "76f7e0a0",
   "metadata": {},
   "source": [
    "## This part is using geocode to extract GPS coodinates of headquarters to use later"
   ]
  },
  {
   "cell_type": "code",
   "execution_count": 14,
   "id": "2e9b6549",
   "metadata": {
    "scrolled": true
   },
   "outputs": [
    {
     "name": "stderr",
     "output_type": "stream",
     "text": [
      "/var/folders/q1/v8q8_chd1rd46t7djqglmp6r0000gn/T/ipykernel_95704/3635620430.py:1: SettingWithCopyWarning: \n",
      "A value is trying to be set on a copy of a slice from a DataFrame.\n",
      "Try using .loc[row_indexer,col_indexer] = value instead\n",
      "\n",
      "See the caveats in the documentation: https://pandas.pydata.org/pandas-docs/stable/user_guide/indexing.html#returning-a-view-versus-a-copy\n",
      "  data['longitude'] =''\n",
      "/var/folders/q1/v8q8_chd1rd46t7djqglmp6r0000gn/T/ipykernel_95704/3635620430.py:2: SettingWithCopyWarning: \n",
      "A value is trying to be set on a copy of a slice from a DataFrame.\n",
      "Try using .loc[row_indexer,col_indexer] = value instead\n",
      "\n",
      "See the caveats in the documentation: https://pandas.pydata.org/pandas-docs/stable/user_guide/indexing.html#returning-a-view-versus-a-copy\n",
      "  data['latitude'] = ''\n"
     ]
    },
    {
     "name": "stdout",
     "output_type": "stream",
     "text": [
      "for Microsoft The longitude and the latitude of the location are:  -122.1779501 47.6188947\n"
     ]
    },
    {
     "name": "stderr",
     "output_type": "stream",
     "text": [
      "/var/folders/q1/v8q8_chd1rd46t7djqglmp6r0000gn/T/ipykernel_95704/3635620430.py:7: SettingWithCopyWarning: \n",
      "A value is trying to be set on a copy of a slice from a DataFrame\n",
      "\n",
      "See the caveats in the documentation: https://pandas.pydata.org/pandas-docs/stable/user_guide/indexing.html#returning-a-view-versus-a-copy\n",
      "  data['longitude'].iloc[i] = location.longitude\n",
      "/var/folders/q1/v8q8_chd1rd46t7djqglmp6r0000gn/T/ipykernel_95704/3635620430.py:8: SettingWithCopyWarning: \n",
      "A value is trying to be set on a copy of a slice from a DataFrame\n",
      "\n",
      "See the caveats in the documentation: https://pandas.pydata.org/pandas-docs/stable/user_guide/indexing.html#returning-a-view-versus-a-copy\n",
      "  data['latitude'].iloc[i] = location.latitude\n"
     ]
    },
    {
     "name": "stdout",
     "output_type": "stream",
     "text": [
      "for Salesforce The longitude and the latitude of the location are:  -122.3969321220982 37.78977435\n",
      "for Bouygues Construction The longitude and the latitude of the location are:  2.31765 48.8774799\n",
      "for BNP Paribas The longitude and the latitude of the location are:  2.3394026 48.8718899\n",
      "for HSBC The longitude and the latitude of the location are:  -0.01744041703082449 51.50543155\n",
      "for Dataiku The longitude and the latitude of the location are:  -74.0060152 40.7127281\n"
     ]
    }
   ],
   "source": [
    "data['longitude'] =''\n",
    "data['latitude'] = ''\n",
    "for i in range(0, len(data)) :\n",
    "    try : \n",
    "        location = geolocator.geocode(data['Headquarters'].iloc[i])\n",
    "        print(\"for\",data['Name'].iloc[i],\"The longitude and the latitude of the location are: \", location.longitude, location.latitude)\n",
    "        data['longitude'].iloc[i] = location.longitude\n",
    "        data['latitude'].iloc[i] = location.latitude\n",
    "    except : \n",
    "        print('not working on', data['Name'].iloc[i])\n",
    "        pass"
   ]
  },
  {
   "cell_type": "code",
   "execution_count": 15,
   "id": "ccbc8af5",
   "metadata": {},
   "outputs": [
    {
     "data": {
      "text/html": [
       "<div>\n",
       "<style scoped>\n",
       "    .dataframe tbody tr th:only-of-type {\n",
       "        vertical-align: middle;\n",
       "    }\n",
       "\n",
       "    .dataframe tbody tr th {\n",
       "        vertical-align: top;\n",
       "    }\n",
       "\n",
       "    .dataframe thead th {\n",
       "        text-align: right;\n",
       "    }\n",
       "</style>\n",
       "<table border=\"1\" class=\"dataframe\">\n",
       "  <thead>\n",
       "    <tr style=\"text-align: right;\">\n",
       "      <th></th>\n",
       "      <th>Headquarters</th>\n",
       "      <th>Revenue</th>\n",
       "      <th>Number of employees</th>\n",
       "      <th>Website</th>\n",
       "      <th>Name</th>\n",
       "      <th>longitude</th>\n",
       "      <th>latitude</th>\n",
       "    </tr>\n",
       "  </thead>\n",
       "  <tbody>\n",
       "    <tr>\n",
       "      <th>1</th>\n",
       "      <td>Redmond, Washington, U.S</td>\n",
       "      <td>US$198.3 billion (2022)</td>\n",
       "      <td>221,000 (2022)</td>\n",
       "      <td>microsoft.com</td>\n",
       "      <td>Microsoft</td>\n",
       "      <td>-122.17795</td>\n",
       "      <td>47.618895</td>\n",
       "    </tr>\n",
       "    <tr>\n",
       "      <th>1</th>\n",
       "      <td>415 Mission St, San Francisco, CA 94105, États...</td>\n",
       "      <td>US$26.49 billion (2022)</td>\n",
       "      <td>73,542 (August 2022)</td>\n",
       "      <td>salesforce.com</td>\n",
       "      <td>Salesforce</td>\n",
       "      <td>-122.396932</td>\n",
       "      <td>37.789774</td>\n",
       "    </tr>\n",
       "    <tr>\n",
       "      <th>1</th>\n",
       "      <td>8th arrondissement, Paris, France</td>\n",
       "      <td>€37.59 billion (2021)[1]</td>\n",
       "      <td>124,600 (Dec 2021)[2]</td>\n",
       "      <td>[1]</td>\n",
       "      <td>Bouygues Construction</td>\n",
       "      <td>2.31765</td>\n",
       "      <td>48.87748</td>\n",
       "    </tr>\n",
       "    <tr>\n",
       "      <th>1</th>\n",
       "      <td>Boulevard des Italiens, Paris, France</td>\n",
       "      <td>€46.2 billion (2021)[2]</td>\n",
       "      <td>190,000 (2022)[2]</td>\n",
       "      <td>group.bnpparibas</td>\n",
       "      <td>BNP Paribas</td>\n",
       "      <td>2.339403</td>\n",
       "      <td>48.87189</td>\n",
       "    </tr>\n",
       "    <tr>\n",
       "      <th>1</th>\n",
       "      <td>8 Canada Square,London, England, UK</td>\n",
       "      <td>US$49.552 billion (2021)[4]</td>\n",
       "      <td>219,697 (2021)[4]</td>\n",
       "      <td>www.hsbc.com</td>\n",
       "      <td>HSBC</td>\n",
       "      <td>-0.01744</td>\n",
       "      <td>51.505432</td>\n",
       "    </tr>\n",
       "    <tr>\n",
       "      <th>1</th>\n",
       "      <td>New York City, United States</td>\n",
       "      <td>US$150 million (2021)[1]</td>\n",
       "      <td>1,000+ (2022)[1]</td>\n",
       "      <td>dataiku.com</td>\n",
       "      <td>Dataiku</td>\n",
       "      <td>-74.006015</td>\n",
       "      <td>40.712728</td>\n",
       "    </tr>\n",
       "  </tbody>\n",
       "</table>\n",
       "</div>"
      ],
      "text/plain": [
       "0                                       Headquarters  \\\n",
       "1                           Redmond, Washington, U.S   \n",
       "1  415 Mission St, San Francisco, CA 94105, États...   \n",
       "1                  8th arrondissement, Paris, France   \n",
       "1              Boulevard des Italiens, Paris, France   \n",
       "1                8 Canada Square,London, England, UK   \n",
       "1                       New York City, United States   \n",
       "\n",
       "0                      Revenue    Number of employees           Website  \\\n",
       "1      US$198.3 billion (2022)         221,000 (2022)     microsoft.com   \n",
       "1      US$26.49 billion (2022)   73,542 (August 2022)    salesforce.com   \n",
       "1     €37.59 billion (2021)[1]  124,600 (Dec 2021)[2]               [1]   \n",
       "1      €46.2 billion (2021)[2]      190,000 (2022)[2]  group.bnpparibas   \n",
       "1  US$49.552 billion (2021)[4]      219,697 (2021)[4]      www.hsbc.com   \n",
       "1     US$150 million (2021)[1]       1,000+ (2022)[1]       dataiku.com   \n",
       "\n",
       "0                   Name   longitude   latitude  \n",
       "1              Microsoft  -122.17795  47.618895  \n",
       "1             Salesforce -122.396932  37.789774  \n",
       "1  Bouygues Construction     2.31765   48.87748  \n",
       "1            BNP Paribas    2.339403   48.87189  \n",
       "1                   HSBC    -0.01744  51.505432  \n",
       "1                Dataiku  -74.006015  40.712728  "
      ]
     },
     "execution_count": 15,
     "metadata": {},
     "output_type": "execute_result"
    }
   ],
   "source": [
    "data"
   ]
  },
  {
   "cell_type": "markdown",
   "id": "1c4d429a",
   "metadata": {},
   "source": [
    "## Itterating trought the dataframe to find corresponding website"
   ]
  },
  {
   "cell_type": "code",
   "execution_count": 18,
   "id": "04bb70a0",
   "metadata": {},
   "outputs": [],
   "source": [
    "for i in range(0, len(data)) : \n",
    "    try :\n",
    "        url = getURL(i)\n",
    "        time.sleep(20)\n",
    "    except : \n",
    "        pass\n",
    "    if url != '' : \n",
    "        data['Website'].iloc[i] = url"
   ]
  },
  {
   "cell_type": "code",
   "execution_count": null,
   "id": "fec9d899",
   "metadata": {},
   "outputs": [],
   "source": []
  },
  {
   "cell_type": "markdown",
   "id": "96dd772c",
   "metadata": {},
   "source": [
    "## Itterating trought the dataframe to find corresponding social media"
   ]
  },
  {
   "cell_type": "code",
   "execution_count": 21,
   "id": "c6240d70",
   "metadata": {},
   "outputs": [],
   "source": [
    "data['social_media'] =''\n",
    "for i in range(0, len(data)) :\n",
    "    lst = []\n",
    "    for s in social_media :\n",
    "        try : \n",
    "            url = getURLmedia((data['Name'].iloc[i]),s)\n",
    "            time.sleep(2)\n",
    "        except : \n",
    "            pass\n",
    "        if url != '' :\n",
    "            print(url)\n",
    "            lst.append(url)\n",
    "    data['social_media'].iloc[i] = lst\n",
    "    time.sleep(2)"
   ]
  },
  {
   "cell_type": "markdown",
   "id": "a831f11d",
   "metadata": {},
   "source": [
    "## exporting the final Dataframe as a csv"
   ]
  },
  {
   "cell_type": "code",
   "execution_count": null,
   "id": "30801ab4",
   "metadata": {},
   "outputs": [],
   "source": [
    "data.to_csv('export.csv')"
   ]
  },
  {
   "cell_type": "code",
   "execution_count": null,
   "id": "1c3577dd",
   "metadata": {},
   "outputs": [],
   "source": []
  },
  {
   "cell_type": "code",
   "execution_count": null,
   "id": "c22184e1",
   "metadata": {},
   "outputs": [],
   "source": []
  },
  {
   "cell_type": "code",
   "execution_count": null,
   "id": "bedfc801",
   "metadata": {},
   "outputs": [],
   "source": []
  }
 ],
 "metadata": {
  "kernelspec": {
   "display_name": "gorgias",
   "language": "python",
   "name": "gorgias"
  },
  "language_info": {
   "codemirror_mode": {
    "name": "ipython",
    "version": 3
   },
   "file_extension": ".py",
   "mimetype": "text/x-python",
   "name": "python",
   "nbconvert_exporter": "python",
   "pygments_lexer": "ipython3",
   "version": "3.8.12"
  }
 },
 "nbformat": 4,
 "nbformat_minor": 5
}
